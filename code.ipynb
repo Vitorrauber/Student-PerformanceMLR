{
 "cells": [
  {
   "cell_type": "code",
   "execution_count": 1,
   "id": "5c4f1dd4",
   "metadata": {},
   "outputs": [],
   "source": [
    "import numpy as np\n",
    "import pandas as pd \n",
    "import seaborn as sns\n",
    "import matplotlib.pyplot as plt"
   ]
  },
  {
   "cell_type": "code",
   "execution_count": 2,
   "id": "fb7c2ecd",
   "metadata": {},
   "outputs": [],
   "source": [
    "df = pd.read_csv(\"archive/Student_Performance.csv\")"
   ]
  },
  {
   "cell_type": "code",
   "execution_count": 3,
   "id": "8211945a",
   "metadata": {},
   "outputs": [],
   "source": [
    "df.head()"
   ]
  },
  {
   "cell_type": "code",
   "execution_count": 4,
   "id": "2f016dbe",
   "metadata": {},
   "outputs": [],
   "source": [
    "#check null values\n",
    "df.isnull().sum() "
   ]
  },
  {
   "cell_type": "code",
   "execution_count": 5,
   "id": "d5a11127",
   "metadata": {},
   "outputs": [],
   "source": [
    "##extracurricular[yes or no] --> change to 1 or 0\n",
    "df['Extracurricular Activities'] = df['Extracurricular Activities'].apply(lambda x: 1 if(x == 'Yes') else 0)"
   ]
  },
  {
   "cell_type": "code",
   "execution_count": 6,
   "id": "fc817ea9",
   "metadata": {},
   "outputs": [],
   "source": [
    "##visualization\n",
    "matrixcorr = df.corr()"
   ]
  },
  {
   "cell_type": "code",
   "execution_count": 7,
   "id": "66fa8ff2",
   "metadata": {},
   "outputs": [],
   "source": [
    "sns.heatmap(matrixcorr, annot = True)"
   ]
  },
  {
   "cell_type": "code",
   "execution_count": 8,
   "id": "39a4ba1f",
   "metadata": {},
   "outputs": [],
   "source": [
    "##hours studied and previous scores seems to have corr with perfomance**"
   ]
  },
  {
   "cell_type": "code",
   "execution_count": 9,
   "id": "72b32205",
   "metadata": {},
   "outputs": [],
   "source": [
    "sns.lmplot(data = df,x = 'Previous Scores', y = 'Performance Index')"
   ]
  },
  {
   "cell_type": "code",
   "execution_count": 10,
   "id": "843349ce",
   "metadata": {},
   "outputs": [],
   "source": [
    "sns.scatterplot(x = df['Hours Studied'], y = df['Performance Index'])"
   ]
  },
  {
   "cell_type": "code",
   "execution_count": 11,
   "id": "6c7d7409",
   "metadata": {},
   "outputs": [],
   "source": [
    "sns.lmplot(data = df,x = 'Previous Scores', y = 'Performance Index', hue = 'Hours Studied')"
   ]
  },
  {
   "cell_type": "code",
   "execution_count": 12,
   "id": "58711754",
   "metadata": {},
   "outputs": [],
   "source": [
    "#performance index appears to be a combination of with Hours Studied and Previous Scores"
   ]
  },
  {
   "cell_type": "code",
   "execution_count": 13,
   "id": "8a8793dd",
   "metadata": {},
   "outputs": [],
   "source": [
    "y = df['Performance Index']\n",
    "X = df[['Previous Scores','Hours Studied']]"
   ]
  },
  {
   "cell_type": "code",
   "execution_count": 14,
   "id": "7ea37fc0",
   "metadata": {},
   "outputs": [],
   "source": [
    "from sklearn.model_selection import train_test_split\n",
    "X_train, X_test, y_train, y_test = train_test_split(X, y, test_size=0.33, random_state=101)"
   ]
  },
  {
   "cell_type": "code",
   "execution_count": 15,
   "id": "dfdf0aca",
   "metadata": {},
   "outputs": [],
   "source": [
    "from sklearn.linear_model import LinearRegression"
   ]
  },
  {
   "cell_type": "code",
   "execution_count": 16,
   "id": "9b07cd79",
   "metadata": {},
   "outputs": [],
   "source": [
    "model = LinearRegression()"
   ]
  },
  {
   "cell_type": "code",
   "execution_count": 17,
   "id": "16928b53",
   "metadata": {},
   "outputs": [],
   "source": [
    "model = model.fit(X = X_train,y = y_train)"
   ]
  },
  {
   "cell_type": "code",
   "execution_count": 18,
   "id": "3eae0be7",
   "metadata": {},
   "outputs": [],
   "source": [
    "predict = model.predict(X_test)"
   ]
  },
  {
   "cell_type": "code",
   "execution_count": 19,
   "id": "b8f68aed",
   "metadata": {},
   "outputs": [],
   "source": [
    "sns.scatterplot(x = y_test.values, y = predict) ##seems very accurate"
   ]
  },
  {
   "cell_type": "code",
   "execution_count": 20,
   "id": "37a11c0e",
   "metadata": {},
   "outputs": [],
   "source": [
    "from sklearn.metrics import mean_absolute_error"
   ]
  },
  {
   "cell_type": "code",
   "execution_count": 21,
   "id": "e61ff0f5",
   "metadata": {},
   "outputs": [],
   "source": [
    "erromedio = mean_absolute_error(y_true=y_test.values,y_pred=predict)\n",
    "erromedio"
   ]
  },
  {
   "cell_type": "markdown",
   "id": "68c21e16",
   "metadata": {},
   "source": [
    "**Erromedio** = 1.797193394861737\n",
    "\n",
    "using linear Regression the\n",
    "model is very precise with mean_absolute_error of 1.8 \n",
    "**using only two variable Previous Scores and Hours Studied**"
   ]
  }
 ],
 "metadata": {
  "kernelspec": {
   "display_name": "Python 3 (ipykernel)",
   "language": "python",
   "name": "python3"
  },
  "language_info": {
   "codemirror_mode": {
    "name": "ipython",
    "version": 3
   },
   "file_extension": ".py",
   "mimetype": "text/x-python",
   "name": "python",
   "nbconvert_exporter": "python",
   "pygments_lexer": "ipython3",
   "version": "3.11.3"
  }
 },
 "nbformat": 4,
 "nbformat_minor": 5
}
